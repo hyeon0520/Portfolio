{
 "cells": [
  {
   "cell_type": "code",
   "execution_count": null,
   "id": "07a24979",
   "metadata": {},
   "outputs": [],
   "source": [
    "import torch\n",
    "import random\n",
    "from diffusers import StableDiffusion3Pipeline\n",
    "from huggingface_hub import hf_hub_download"
   ]
  },
  {
   "cell_type": "code",
   "execution_count": null,
   "id": "cc38cdee",
   "metadata": {},
   "outputs": [],
   "source": [
    "base_model_id = \"stabilityai/stable-diffusion-3-medium-diffusers\"\n",
    "repo_name = \"ByteDance/Hyper-SD\"\n",
    "# Take 8-steps lora as an example\n",
    "ckpt_name = \"Hyper-SD3-8steps-CFG-lora.safetensors\"\n",
    "# Load model, please fill in your access tokens since SD3 repo is a gated model.\n",
    "pipe = StableDiffusion3Pipeline.from_pretrained(base_model_id, token=\"\")\n",
    "pipe.load_lora_weights(hf_hub_download(repo_name, ckpt_name))\n",
    "pipe.fuse_lora(lora_scale=0.125)\n",
    "pipe.to(\"cuda\", dtype=torch.float16)"
   ]
  },
  {
   "cell_type": "code",
   "execution_count": null,
   "id": "4160f193",
   "metadata": {},
   "outputs": [],
   "source": [
    "prompt=\"A photo duck on the river\"\n",
    "seed=3\n",
    "generator = torch.Generator(\"cuda\").manual_seed(seed)"
   ]
  },
  {
   "cell_type": "code",
   "execution_count": null,
   "id": "b75e69dd",
   "metadata": {},
   "outputs": [],
   "source": [
    "image=pipe(prompt=prompt,\n",
    "           negative_prompt=\"blurry, low quality, low resolution\",\n",
    "           height=1024,\n",
    "           width=768,\n",
    "           num_inference_steps=20,\n",
    "           guidance_scale=5.5,\n",
    "        #    generator=generator\n",
    "           ).images[0]"
   ]
  },
  {
   "cell_type": "code",
   "execution_count": null,
   "id": "4cf5b40e",
   "metadata": {},
   "outputs": [],
   "source": [
    "image.save(\"SD3-output/output46.png\")"
   ]
  },
  {
   "cell_type": "code",
   "execution_count": null,
   "id": "986a010f",
   "metadata": {},
   "outputs": [],
   "source": []
  }
 ],
 "metadata": {
  "kernelspec": {
   "display_name": "hyper",
   "language": "python",
   "name": "python3"
  },
  "language_info": {
   "codemirror_mode": {
    "name": "ipython",
    "version": 3
   },
   "file_extension": ".py",
   "mimetype": "text/x-python",
   "name": "python",
   "nbconvert_exporter": "python",
   "pygments_lexer": "ipython3",
   "version": "3.11.13"
  }
 },
 "nbformat": 4,
 "nbformat_minor": 5
}
