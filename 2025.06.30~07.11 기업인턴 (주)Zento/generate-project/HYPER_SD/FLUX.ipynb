{
 "cells": [
  {
   "cell_type": "code",
   "execution_count": null,
   "id": "f4b28b3d",
   "metadata": {},
   "outputs": [],
   "source": [
    "import torch\n",
    "from diffusers import FluxPipeline\n",
    "from huggingface_hub import hf_hub_download"
   ]
  },
  {
   "cell_type": "code",
   "execution_count": null,
   "id": "57ab79d5",
   "metadata": {},
   "outputs": [],
   "source": [
    "base_model_id = \"black-forest-labs/FLUX.1-dev\"\n",
    "repo_name = \"ByteDance/Hyper-SD\"\n",
    "# Take 8-steps lora as an example\n",
    "ckpt_name = \"Hyper-FLUX.1-dev-8steps-lora.safetensors\"\n",
    "# Load model, please fill in your access tokens since FLUX.1-dev repo is a gated model.\n",
    "pipe = FluxPipeline.from_pretrained(base_model_id, token=\"\")\n",
    "pipe.load_lora_weights(hf_hub_download(repo_name, ckpt_name))\n",
    "pipe.fuse_lora(lora_scale=0.125)\n",
    "pipe.to(\"cuda\", dtype=torch.float16)"
   ]
  },
  {
   "cell_type": "code",
   "execution_count": null,
   "id": "e7c14288",
   "metadata": {},
   "outputs": [],
   "source": [
    "prompt=\"A man and a woman warmly holding hands, smiling at each other, in a sunny park setting.\"\n",
    "seed=3\n",
    "generator = torch.Generator(\"cuda\").manual_seed(seed)"
   ]
  },
  {
   "cell_type": "code",
   "execution_count": null,
   "id": "8cfa0b09",
   "metadata": {},
   "outputs": [],
   "source": [
    "image=pipe(prompt=prompt,\n",
    "           negative_prompt=\"blurry, low quality, low resolution\",\n",
    "           height=1024,\n",
    "           width=768,\n",
    "           num_inference_steps=10,\n",
    "           guidance_scale=5.5,\n",
    "        #    generator=generator\n",
    "           ).images[0]"
   ]
  },
  {
   "cell_type": "code",
   "execution_count": null,
   "id": "a4fd6250",
   "metadata": {},
   "outputs": [],
   "source": [
    "image.save(\"FLUX-output/output4.png\")"
   ]
  },
  {
   "cell_type": "code",
   "execution_count": null,
   "id": "2c91ea86",
   "metadata": {},
   "outputs": [],
   "source": []
  }
 ],
 "metadata": {
  "kernelspec": {
   "display_name": "hyper",
   "language": "python",
   "name": "python3"
  },
  "language_info": {
   "codemirror_mode": {
    "name": "ipython",
    "version": 3
   },
   "file_extension": ".py",
   "mimetype": "text/x-python",
   "name": "python",
   "nbconvert_exporter": "python",
   "pygments_lexer": "ipython3",
   "version": "3.11.13"
  }
 },
 "nbformat": 4,
 "nbformat_minor": 5
}
