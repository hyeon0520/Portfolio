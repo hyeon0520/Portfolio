{
 "cells": [
  {
   "cell_type": "code",
   "execution_count": 6,
   "id": "5548577b",
   "metadata": {},
   "outputs": [],
   "source": [
    "from diffusers import BitsAndBytesConfig, SD3Transformer2DModel\n",
    "from diffusers import StableDiffusion3Pipeline\n",
    "from transformers import MarianMTModel, MarianTokenizer\n",
    "import torch\n",
    "import re"
   ]
  },
  {
   "cell_type": "code",
   "execution_count": 2,
   "id": "26821a52",
   "metadata": {},
   "outputs": [
    {
     "name": "stderr",
     "output_type": "stream",
     "text": [
      "Fetching 2 files: 100%|██████████| 2/2 [00:00<?, ?it/s]\n",
      "Loading checkpoint shards: 100%|██████████| 2/2 [00:07<00:00,  3.52s/it]\n",
      "Loading checkpoint shards: 100%|██████████| 2/2 [00:02<00:00,  1.36s/it]\n",
      "Loading pipeline components...:  11%|█         | 1/9 [00:02<00:22,  2.75s/it]You set `add_prefix_space`. The tokenizer needs to be converted from the slow tokenizers\n",
      "Loading pipeline components...: 100%|██████████| 9/9 [00:03<00:00,  2.37it/s]\n"
     ]
    }
   ],
   "source": [
    "model_id = \"stabilityai/stable-diffusion-3.5-large\"\n",
    "\n",
    "nf4_config = BitsAndBytesConfig(\n",
    "    load_in_4bit=True,\n",
    "    bnb_4bit_quant_type=\"nf4\",\n",
    "    bnb_4bit_compute_dtype=torch.bfloat16\n",
    ")\n",
    "model_nf4 = SD3Transformer2DModel.from_pretrained(\n",
    "    model_id,\n",
    "    subfolder=\"transformer\",\n",
    "    quantization_config=nf4_config,\n",
    "    torch_dtype=torch.bfloat16\n",
    ")\n",
    "\n",
    "pipeline = StableDiffusion3Pipeline.from_pretrained(\n",
    "    model_id, \n",
    "    transformer=model_nf4,\n",
    "    torch_dtype=torch.bfloat16\n",
    ")\n",
    "pipeline.enable_model_cpu_offload()"
   ]
  },
  {
   "cell_type": "code",
   "execution_count": 8,
   "id": "496b9558",
   "metadata": {},
   "outputs": [],
   "source": [
    "model_name = \"Helsinki-NLP/opus-mt-ko-en\"\n",
    "tokenizer = MarianTokenizer.from_pretrained(model_name)\n",
    "model = MarianMTModel.from_pretrained(model_name)"
   ]
  },
  {
   "cell_type": "code",
   "execution_count": 33,
   "id": "3157e23c",
   "metadata": {},
   "outputs": [],
   "source": [
    "# 3. 한글 포함 여부 판별 함수\n",
    "def contains_korean(text):\n",
    "    return bool(re.search(r\"[가-힣]\", text))"
   ]
  },
  {
   "cell_type": "code",
   "execution_count": 34,
   "id": "7e14b058",
   "metadata": {},
   "outputs": [],
   "source": [
    "# 4. 번역 함수\n",
    "def translate_ko_to_en(text):\n",
    "    inputs = tokenizer(text, return_tensors=\"pt\", padding=True, truncation=True)\n",
    "    translated = model.generate(**inputs)\n",
    "    return tokenizer.decode(translated[0], skip_special_tokens=True)"
   ]
  },
  {
   "cell_type": "code",
   "execution_count": 51,
   "id": "350fd67a",
   "metadata": {},
   "outputs": [],
   "source": [
    "prompt = \"Trumph is striking Obama on the head with a baseball bat. Trumph has a menacing smile on her face, while Obama shows an expression of intense pain\"\n",
    "negative_prompt = \"blurry, low quality, low resolution\""
   ]
  },
  {
   "cell_type": "code",
   "execution_count": 52,
   "id": "c2738174",
   "metadata": {},
   "outputs": [],
   "source": [
    "# 6. 한글이 포함되어 있으면 영어로 번역\n",
    "if contains_korean(prompt):\n",
    "    prompt = translate_ko_to_en(prompt)"
   ]
  },
  {
   "cell_type": "code",
   "execution_count": 53,
   "id": "eedda658",
   "metadata": {},
   "outputs": [
    {
     "name": "stdout",
     "output_type": "stream",
     "text": [
      "Trumph is striking Obama on the head with a baseball bat. Trumph has a menacing smile on her face, while Obama shows an expression of intense pain\n"
     ]
    }
   ],
   "source": [
    "print(prompt)"
   ]
  },
  {
   "cell_type": "code",
   "execution_count": 54,
   "id": "7384afdf",
   "metadata": {},
   "outputs": [
    {
     "name": "stderr",
     "output_type": "stream",
     "text": [
      "100%|██████████| 100/100 [05:19<00:00,  3.19s/it]\n"
     ]
    }
   ],
   "source": [
    "image = pipeline(\n",
    "    prompt=prompt,\n",
    "    negative_prompt=negative_prompt,\n",
    "    num_inference_steps=100,\n",
    "    guidance_scale=7.5,\n",
    "    height=512,\n",
    "    width=512,\n",
    "    num_images_per_prompt=1,\n",
    "    max_sequence_length=256,\n",
    ").images[0]"
   ]
  },
  {
   "cell_type": "code",
   "execution_count": 55,
   "id": "3e57f477",
   "metadata": {},
   "outputs": [],
   "source": [
    "image.save(\"output13.png\")"
   ]
  },
  {
   "cell_type": "code",
   "execution_count": null,
   "id": "c681b0dd",
   "metadata": {},
   "outputs": [],
   "source": []
  }
 ],
 "metadata": {
  "kernelspec": {
   "display_name": "SD3.5",
   "language": "python",
   "name": "python3"
  },
  "language_info": {
   "codemirror_mode": {
    "name": "ipython",
    "version": 3
   },
   "file_extension": ".py",
   "mimetype": "text/x-python",
   "name": "python",
   "nbconvert_exporter": "python",
   "pygments_lexer": "ipython3",
   "version": "3.11.13"
  }
 },
 "nbformat": 4,
 "nbformat_minor": 5
}
