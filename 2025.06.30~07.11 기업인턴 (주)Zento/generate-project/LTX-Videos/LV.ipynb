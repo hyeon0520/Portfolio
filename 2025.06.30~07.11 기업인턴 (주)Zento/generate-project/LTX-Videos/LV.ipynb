{
 "cells": [
  {
   "cell_type": "code",
   "execution_count": 2,
   "id": "3c4f56e4",
   "metadata": {},
   "outputs": [],
   "source": [
    "import torch\n",
    "from diffusers import LTXPipeline, AutoModel\n",
    "from diffusers.hooks import apply_group_offloading\n",
    "from diffusers.utils import export_to_video"
   ]
  },
  {
   "cell_type": "code",
   "execution_count": 3,
   "id": "387fdb8e",
   "metadata": {},
   "outputs": [
    {
     "name": "stderr",
     "output_type": "stream",
     "text": [
      "Fetching 2 files: 100%|██████████| 2/2 [00:00<?, ?it/s]\n",
      "Loading checkpoint shards: 100%|██████████| 2/2 [00:01<00:00,  1.45it/s]\n"
     ]
    }
   ],
   "source": [
    "# fp8 layerwise weight-casting\n",
    "transformer = AutoModel.from_pretrained(\n",
    "    \"Lightricks/LTX-Video\",\n",
    "    subfolder=\"transformer\",\n",
    "    torch_dtype=torch.bfloat16\n",
    ")\n",
    "transformer.enable_layerwise_casting(\n",
    "    storage_dtype=torch.float8_e4m3fn, compute_dtype=torch.bfloat16\n",
    ")"
   ]
  },
  {
   "cell_type": "code",
   "execution_count": 4,
   "id": "8d19a10a",
   "metadata": {},
   "outputs": [
    {
     "name": "stderr",
     "output_type": "stream",
     "text": [
      "Loading checkpoint shards: 100%|██████████| 2/2 [00:01<00:00,  1.45it/s]\n",
      "Loading checkpoint shards: 100%|██████████| 4/4 [00:03<00:00,  1.09it/s]it/s]\n",
      "Loading pipeline components...: 100%|██████████| 5/5 [00:06<00:00,  1.20s/it]\n"
     ]
    }
   ],
   "source": [
    "from diffusers import LTXPipeline\n",
    "\n",
    "pipeline = LTXPipeline.from_pretrained(\n",
    "    \"Lightricks/LTX-Video\",\n",
    "    torch_dtype=torch.bfloat16  # 또는 torch.float16\n",
    ")"
   ]
  },
  {
   "cell_type": "code",
   "execution_count": 5,
   "id": "6c9d8620",
   "metadata": {},
   "outputs": [],
   "source": [
    "# group-offloading\n",
    "onload_device = torch.device(\"cuda\")\n",
    "offload_device = torch.device(\"cpu\")\n",
    "pipeline.transformer.enable_group_offload(onload_device=onload_device, offload_device=offload_device, offload_type=\"leaf_level\", use_stream=True)\n",
    "apply_group_offloading(pipeline.text_encoder, onload_device=onload_device, offload_type=\"block_level\", num_blocks_per_group=2)\n",
    "apply_group_offloading(pipeline.vae, onload_device=onload_device, offload_type=\"leaf_level\")\n",
    "\n",
    "prompt = (\n",
    "    \"A male student with glasses is sleeping with his head on the desk. \"\n",
    "    \"Suddenly, he experiences a small twitch, like a seizure. \"\n",
    "    \"He wakes up abruptly and slowly gets up from his seat.\"\n",
    ")\n",
    "\n",
    "negative_prompt = \"low quality, blurry, distorted face, disfigured, bad anatomy, deformed\""
   ]
  },
  {
   "cell_type": "code",
   "execution_count": 6,
   "id": "930ee66c",
   "metadata": {},
   "outputs": [
    {
     "name": "stderr",
     "output_type": "stream",
     "text": [
      "100%|██████████| 25/25 [14:58<00:00, 35.95s/it]\n"
     ]
    }
   ],
   "source": [
    "video = pipeline(\n",
    "    prompt=prompt,\n",
    "    negative_prompt=negative_prompt,\n",
    "    width=768,\n",
    "    height=512,\n",
    "    num_frames=90,\n",
    "    decode_timestep=0.03,\n",
    "    decode_noise_scale=0.03,\n",
    "    num_inference_steps=25,\n",
    ").frames[0]"
   ]
  },
  {
   "cell_type": "code",
   "execution_count": 20,
   "id": "d6f8b5c5",
   "metadata": {},
   "outputs": [
    {
     "name": "stderr",
     "output_type": "stream",
     "text": [
      "It is recommended to use `export_to_video` with `imageio` and `imageio-ffmpeg` as a backend. \n",
      "These libraries are not present in your environment. Attempting to use legacy OpenCV backend to export video. \n",
      "Support for the OpenCV backend will be deprecated in a future Diffusers version\n"
     ]
    },
    {
     "ename": "ImportError",
     "evalue": "\nexport_to_video requires the OpenCV library but it was not found in your environment. You can install it with pip: `pip\ninstall opencv-python`\n",
     "output_type": "error",
     "traceback": [
      "\u001b[31m---------------------------------------------------------------------------\u001b[39m",
      "\u001b[31mImportError\u001b[39m                               Traceback (most recent call last)",
      "\u001b[36mCell\u001b[39m\u001b[36m \u001b[39m\u001b[32mIn[20]\u001b[39m\u001b[32m, line 1\u001b[39m\n\u001b[32m----> \u001b[39m\u001b[32m1\u001b[39m \u001b[43mexport_to_video\u001b[49m\u001b[43m(\u001b[49m\u001b[43mvideo\u001b[49m\u001b[43m,\u001b[49m\u001b[43m \u001b[49m\u001b[33;43m\"\u001b[39;49m\u001b[33;43moutput.mp4\u001b[39;49m\u001b[33;43m\"\u001b[39;49m\u001b[43m,\u001b[49m\u001b[43m \u001b[49m\u001b[43mfps\u001b[49m\u001b[43m=\u001b[49m\u001b[32;43m30\u001b[39;49m\u001b[43m)\u001b[49m\n",
      "\u001b[36mFile \u001b[39m\u001b[32mc:\\Users\\user\\anaconda3\\envs\\mygp\\Lib\\site-packages\\diffusers\\utils\\export_utils.py:177\u001b[39m, in \u001b[36mexport_to_video\u001b[39m\u001b[34m(video_frames, output_video_path, fps, quality, bitrate, macro_block_size)\u001b[39m\n\u001b[32m    169\u001b[39m \u001b[38;5;28;01mif\u001b[39;00m \u001b[38;5;129;01mnot\u001b[39;00m is_imageio_available():\n\u001b[32m    170\u001b[39m     logger.warning(\n\u001b[32m    171\u001b[39m         (\n\u001b[32m    172\u001b[39m             \u001b[33m\"\u001b[39m\u001b[33mIt is recommended to use `export_to_video` with `imageio` and `imageio-ffmpeg` as a backend. \u001b[39m\u001b[38;5;130;01m\\n\u001b[39;00m\u001b[33m\"\u001b[39m\n\u001b[32m   (...)\u001b[39m\u001b[32m    175\u001b[39m         )\n\u001b[32m    176\u001b[39m     )\n\u001b[32m--> \u001b[39m\u001b[32m177\u001b[39m     \u001b[38;5;28;01mreturn\u001b[39;00m \u001b[43m_legacy_export_to_video\u001b[49m\u001b[43m(\u001b[49m\u001b[43mvideo_frames\u001b[49m\u001b[43m,\u001b[49m\u001b[43m \u001b[49m\u001b[43moutput_video_path\u001b[49m\u001b[43m,\u001b[49m\u001b[43m \u001b[49m\u001b[43mfps\u001b[49m\u001b[43m)\u001b[49m\n\u001b[32m    179\u001b[39m \u001b[38;5;28;01mif\u001b[39;00m is_imageio_available():\n\u001b[32m    180\u001b[39m     \u001b[38;5;28;01mimport\u001b[39;00m\u001b[38;5;250m \u001b[39m\u001b[34;01mimageio\u001b[39;00m\n",
      "\u001b[36mFile \u001b[39m\u001b[32mc:\\Users\\user\\anaconda3\\envs\\mygp\\Lib\\site-packages\\diffusers\\utils\\export_utils.py:121\u001b[39m, in \u001b[36m_legacy_export_to_video\u001b[39m\u001b[34m(video_frames, output_video_path, fps)\u001b[39m\n\u001b[32m    119\u001b[39m     \u001b[38;5;28;01mimport\u001b[39;00m\u001b[38;5;250m \u001b[39m\u001b[34;01mcv2\u001b[39;00m\n\u001b[32m    120\u001b[39m \u001b[38;5;28;01melse\u001b[39;00m:\n\u001b[32m--> \u001b[39m\u001b[32m121\u001b[39m     \u001b[38;5;28;01mraise\u001b[39;00m \u001b[38;5;167;01mImportError\u001b[39;00m(BACKENDS_MAPPING[\u001b[33m\"\u001b[39m\u001b[33mopencv\u001b[39m\u001b[33m\"\u001b[39m][\u001b[32m1\u001b[39m].format(\u001b[33m\"\u001b[39m\u001b[33mexport_to_video\u001b[39m\u001b[33m\"\u001b[39m))\n\u001b[32m    122\u001b[39m \u001b[38;5;28;01mif\u001b[39;00m output_video_path \u001b[38;5;129;01mis\u001b[39;00m \u001b[38;5;28;01mNone\u001b[39;00m:\n\u001b[32m    123\u001b[39m     output_video_path = tempfile.NamedTemporaryFile(suffix=\u001b[33m\"\u001b[39m\u001b[33m.mp4\u001b[39m\u001b[33m\"\u001b[39m).name\n",
      "\u001b[31mImportError\u001b[39m: \nexport_to_video requires the OpenCV library but it was not found in your environment. You can install it with pip: `pip\ninstall opencv-python`\n"
     ]
    }
   ],
   "source": [
    "export_to_video(video, \"output.mp4\", fps=30)"
   ]
  },
  {
   "cell_type": "code",
   "execution_count": null,
   "id": "f26d3048",
   "metadata": {},
   "outputs": [],
   "source": []
  }
 ],
 "metadata": {
  "kernelspec": {
   "display_name": "mygp",
   "language": "python",
   "name": "python3"
  },
  "language_info": {
   "codemirror_mode": {
    "name": "ipython",
    "version": 3
   },
   "file_extension": ".py",
   "mimetype": "text/x-python",
   "name": "python",
   "nbconvert_exporter": "python",
   "pygments_lexer": "ipython3",
   "version": "3.11.13"
  }
 },
 "nbformat": 4,
 "nbformat_minor": 5
}
