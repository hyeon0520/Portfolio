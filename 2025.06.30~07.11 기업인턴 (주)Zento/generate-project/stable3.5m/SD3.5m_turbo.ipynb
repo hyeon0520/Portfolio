{
 "cells": [
  {
   "cell_type": "code",
   "execution_count": 1,
   "id": "8807a260",
   "metadata": {},
   "outputs": [
    {
     "name": "stderr",
     "output_type": "stream",
     "text": [
      "c:\\Users\\user\\anaconda3\\envs\\hyper\\Lib\\site-packages\\tqdm\\auto.py:21: TqdmWarning: IProgress not found. Please update jupyter and ipywidgets. See https://ipywidgets.readthedocs.io/en/stable/user_install.html\n",
      "  from .autonotebook import tqdm as notebook_tqdm\n"
     ]
    }
   ],
   "source": [
    "import torch\n",
    "from diffusers import StableDiffusion3ControlNetPipeline\n",
    "from diffusers import SD3ControlNetModel\n",
    "from diffusers.utils import load_image"
   ]
  },
  {
   "cell_type": "code",
   "execution_count": null,
   "id": "6f4fa949",
   "metadata": {},
   "outputs": [
    {
     "name": "stderr",
     "output_type": "stream",
     "text": [
      "c:\\Users\\user\\anaconda3\\envs\\hyper\\Lib\\site-packages\\huggingface_hub\\file_download.py:143: UserWarning: `huggingface_hub` cache-system uses symlinks by default to efficiently store duplicated files but your machine does not support them in C:\\Users\\user\\.cache\\huggingface\\hub\\models--tensorart--SD3.5M-Controlnet-Canny. Caching files will still work but in a degraded version that might require more space on your disk. This warning can be disabled by setting the `HF_HUB_DISABLE_SYMLINKS_WARNING` environment variable. For more details, see https://huggingface.co/docs/huggingface_hub/how-to-cache#limitations.\n",
      "To support symlinks on Windows, you either need to activate Developer Mode or to run Python as an administrator. In order to activate developer mode, see this article: https://docs.microsoft.com/en-us/windows/apps/get-started/enable-your-device-for-development\n",
      "  warnings.warn(message)\n",
      "c:\\Users\\user\\anaconda3\\envs\\hyper\\Lib\\site-packages\\huggingface_hub\\file_download.py:143: UserWarning: `huggingface_hub` cache-system uses symlinks by default to efficiently store duplicated files but your machine does not support them in C:\\Users\\user\\.cache\\huggingface\\hub\\models--tensorart--stable-diffusion-3.5-medium-turbo. Caching files will still work but in a degraded version that might require more space on your disk. This warning can be disabled by setting the `HF_HUB_DISABLE_SYMLINKS_WARNING` environment variable. For more details, see https://huggingface.co/docs/huggingface_hub/how-to-cache#limitations.\n",
      "To support symlinks on Windows, you either need to activate Developer Mode or to run Python as an administrator. In order to activate developer mode, see this article: https://docs.microsoft.com/en-us/windows/apps/get-started/enable-your-device-for-development\n",
      "  warnings.warn(message)\n",
      "Fetching 26 files:  23%|██▎       | 6/26 [01:47<06:04, 18.23s/it]"
     ]
    }
   ],
   "source": [
    "controlnet = SD3ControlNetModel.from_pretrained(\"tensorart/SD3.5M-Controlnet-Canny\")\n",
    "pipe = StableDiffusion3ControlNetPipeline.from_pretrained(\n",
    "    \"tensorart/stable-diffusion-3.5-medium-turbo\",\n",
    "    controlnet=controlnet\n",
    ")"
   ]
  },
  {
   "cell_type": "code",
   "execution_count": null,
   "id": "be04909a",
   "metadata": {},
   "outputs": [],
   "source": [
    "pipe.to(\"cuda\", torch.float16)"
   ]
  },
  {
   "cell_type": "code",
   "execution_count": null,
   "id": "5cd3749d",
   "metadata": {},
   "outputs": [],
   "source": [
    "image = pipe(\n",
    "    prompt, \n",
    "    num_inference_steps=30,\n",
    "    negative_prompt=negative_prompt, \n",
    "    control_image=control_image, \n",
    "    guidance_scale=4.5,\n",
    "    controlnet_conditioning_scale=0.8\n",
    ").images[0]\n",
    "image.save('image.jpg')"
   ]
  }
 ],
 "metadata": {
  "kernelspec": {
   "display_name": "hyper",
   "language": "python",
   "name": "python3"
  },
  "language_info": {
   "codemirror_mode": {
    "name": "ipython",
    "version": 3
   },
   "file_extension": ".py",
   "mimetype": "text/x-python",
   "name": "python",
   "nbconvert_exporter": "python",
   "pygments_lexer": "ipython3",
   "version": "3.11.13"
  }
 },
 "nbformat": 4,
 "nbformat_minor": 5
}
