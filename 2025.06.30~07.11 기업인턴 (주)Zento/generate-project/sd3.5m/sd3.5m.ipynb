{
 "cells": [
  {
   "cell_type": "code",
   "execution_count": 1,
   "id": "9fb4df3a",
   "metadata": {},
   "outputs": [
    {
     "name": "stderr",
     "output_type": "stream",
     "text": [
      "c:\\Users\\user\\anaconda3\\envs\\hyper\\Lib\\site-packages\\tqdm\\auto.py:21: TqdmWarning: IProgress not found. Please update jupyter and ipywidgets. See https://ipywidgets.readthedocs.io/en/stable/user_install.html\n",
      "  from .autonotebook import tqdm as notebook_tqdm\n"
     ]
    }
   ],
   "source": [
    "from diffusers import BitsAndBytesConfig, SD3Transformer2DModel\n",
    "from diffusers import StableDiffusion3Pipeline\n",
    "import torch"
   ]
  },
  {
   "cell_type": "code",
   "execution_count": 8,
   "id": "dd89a282",
   "metadata": {},
   "outputs": [
    {
     "name": "stderr",
     "output_type": "stream",
     "text": [
      "Loading checkpoint shards: 100%|██████████| 2/2 [00:00<00:00,  5.92it/s]\n",
      "Loading pipeline components...: 100%|██████████| 9/9 [00:01<00:00,  7.15it/s]\n"
     ]
    }
   ],
   "source": [
    "model_id = \"stabilityai/stable-diffusion-3.5-medium\"\n",
    "\n",
    "nf4_config = BitsAndBytesConfig(\n",
    "    load_in_4bit=True,\n",
    "    bnb_4bit_quant_type=\"nf4\",\n",
    "    bnb_4bit_compute_dtype=torch.float16\n",
    ")\n",
    "model_nf4 = SD3Transformer2DModel.from_pretrained(\n",
    "    model_id,\n",
    "    subfolder=\"transformer\",\n",
    "    quantization_config=nf4_config,\n",
    "    torch_dtype=torch.float16\n",
    ")\n",
    "\n",
    "pipeline = StableDiffusion3Pipeline.from_pretrained(\n",
    "    model_id, \n",
    "    transformer=model_nf4,\n",
    "    torch_dtype=torch.float16\n",
    ")\n",
    "pipeline.enable_model_cpu_offload()"
   ]
  },
  {
   "cell_type": "code",
   "execution_count": 9,
   "id": "c2c7eecb",
   "metadata": {},
   "outputs": [],
   "source": [
    "prompt = \"a photo of cat.\"\n",
    "negative_prompt = \"blurry, low quality, low resolution.\""
   ]
  },
  {
   "cell_type": "code",
   "execution_count": null,
   "id": "cc84e30a",
   "metadata": {},
   "outputs": [
    {
     "name": "stderr",
     "output_type": "stream",
     "text": [
      "100%|██████████| 30/30 [00:16<00:00,  1.80it/s]\n"
     ]
    }
   ],
   "source": [
    "image = pipeline(\n",
    "    prompt=prompt,\n",
    "    negative_prompt=negative_prompt,\n",
    "    height=1024,\n",
    "    width=768,\n",
    "    num_inference_steps=30,\n",
    "    guidance_scale=5.5,\n",
    "    max_sequence_length=512,\n",
    ").images[0]"
   ]
  },
  {
   "cell_type": "code",
   "execution_count": 13,
   "id": "6adb48b7",
   "metadata": {},
   "outputs": [],
   "source": [
    "image.save(\"output/output1.png\")"
   ]
  },
  {
   "cell_type": "code",
   "execution_count": null,
   "id": "06b9b485",
   "metadata": {},
   "outputs": [],
   "source": []
  }
 ],
 "metadata": {
  "kernelspec": {
   "display_name": "hyper",
   "language": "python",
   "name": "python3"
  },
  "language_info": {
   "codemirror_mode": {
    "name": "ipython",
    "version": 3
   },
   "file_extension": ".py",
   "mimetype": "text/x-python",
   "name": "python",
   "nbconvert_exporter": "python",
   "pygments_lexer": "ipython3",
   "version": "3.11.13"
  }
 },
 "nbformat": 4,
 "nbformat_minor": 5
}
