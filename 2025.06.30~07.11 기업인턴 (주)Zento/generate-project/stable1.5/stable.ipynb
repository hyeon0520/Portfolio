{
 "cells": [
  {
   "cell_type": "code",
   "execution_count": 7,
   "id": "e41e8328",
   "metadata": {},
   "outputs": [],
   "source": [
    "from diffusers import StableDiffusionPipeline\n",
    "from fastapi import FastAPI, HTTPException\n",
    "from pydantic import BaseModel\n",
    "from diffusers import DiffusionPipeline\n",
    "from fastapi.responses import FileResponse\n",
    "import torch\n",
    "import uuid\n",
    "import os"
   ]
  },
  {
   "cell_type": "code",
   "execution_count": 8,
   "id": "60ff7802",
   "metadata": {},
   "outputs": [
    {
     "name": "stderr",
     "output_type": "stream",
     "text": [
      "Loading pipeline components...: 100%|██████████| 7/7 [00:01<00:00,  3.99it/s]\n"
     ]
    }
   ],
   "source": [
    "app = FastAPI()\n",
    "\n",
    "model_id = \"CompVis/stable-diffusion-v1-4\"\n",
    "device = \"cuda\"\n",
    "pipe = StableDiffusionPipeline.from_pretrained(model_id, torch_dtype=torch.float16)\n",
    "pipe = pipe.to(device)"
   ]
  },
  {
   "cell_type": "code",
   "execution_count": 40,
   "id": "f69228bc",
   "metadata": {},
   "outputs": [
    {
     "name": "stderr",
     "output_type": "stream",
     "text": [
      "100%|██████████| 100/100 [00:05<00:00, 16.74it/s]\n"
     ]
    }
   ],
   "source": [
    "prompt = \"Trump waving the Taegeukgi and cheering\"\n",
    "image = pipe(prompt,\n",
    "             negative_prompt=\"falling details\" \"blurry part\",\n",
    "             num_inference_steps=100,   # 디퓨전 단계 수 (기본 50) - 높을수록 품질↑, 느려짐\n",
    "             guidance_scale=7.5,       # 가이드 스케일 (기본 7.5) - 높을수록 prompt에 충실\n",
    "             height=512,               # 생성 이미지 높이 (64 단위)\n",
    "             width=512,                # 생성 이미지 너비 (64 단위)\n",
    "             num_images_per_prompt=1,  # 한번에 생성할 이미지 수\n",
    "            ).images[0]\n",
    "    \n",
    "image.save(\"output.png\")"
   ]
  },
  {
   "cell_type": "code",
   "execution_count": null,
   "id": "78f0747b",
   "metadata": {},
   "outputs": [],
   "source": []
  }
 ],
 "metadata": {
  "kernelspec": {
   "display_name": "mygp",
   "language": "python",
   "name": "python3"
  },
  "language_info": {
   "codemirror_mode": {
    "name": "ipython",
    "version": 3
   },
   "file_extension": ".py",
   "mimetype": "text/x-python",
   "name": "python",
   "nbconvert_exporter": "python",
   "pygments_lexer": "ipython3",
   "version": "3.11.13"
  }
 },
 "nbformat": 4,
 "nbformat_minor": 5
}
